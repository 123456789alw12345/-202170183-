{
 "cells": [
  {
   "cell_type": "code",
   "execution_count": 1,
   "metadata": {},
   "outputs": [],
   "source": [
    "def dfs(graph, start, goal, path=None):\n",
    "    if path is None:\n",
    "        path = []\n",
    "    path = path + [start]\n",
    "\n",
    "    if start == goal:\n",
    "        return path\n",
    "\n",
    "    for neighbor in graph.get(start, []):\n",
    "        if neighbor not in path:\n",
    "            new_path = dfs(graph, neighbor, goal, path)\n",
    "            if new_path:\n",
    "                return new_path\n",
    "    return None\n"
   ]
  },
  {
   "cell_type": "code",
   "execution_count": 2,
   "metadata": {},
   "outputs": [
    {
     "ename": "NameError",
     "evalue": "name 'start_node' is not defined",
     "output_type": "error",
     "traceback": [
      "\u001b[1;31m---------------------------------------------------------------------------\u001b[0m",
      "\u001b[1;31mNameError\u001b[0m                                 Traceback (most recent call last)",
      "Cell \u001b[1;32mIn[2], line 18\u001b[0m\n\u001b[0;32m     15\u001b[0m path \u001b[38;5;241m=\u001b[39m dfs(graph, root_node, destination_node)\n\u001b[0;32m     17\u001b[0m \u001b[38;5;28;01mif\u001b[39;00m path:\n\u001b[1;32m---> 18\u001b[0m     \u001b[38;5;28mprint\u001b[39m(\u001b[38;5;124mf\u001b[39m\u001b[38;5;124m\"\u001b[39m\u001b[38;5;124mPath from \u001b[39m\u001b[38;5;132;01m{\u001b[39;00mstart_node\u001b[38;5;132;01m}\u001b[39;00m\u001b[38;5;124m to \u001b[39m\u001b[38;5;132;01m{\u001b[39;00mdestination_node\u001b[38;5;132;01m}\u001b[39;00m\u001b[38;5;124m: \u001b[39m\u001b[38;5;132;01m{\u001b[39;00mpath\u001b[38;5;132;01m}\u001b[39;00m\u001b[38;5;124m\"\u001b[39m)\n\u001b[0;32m     19\u001b[0m \u001b[38;5;28;01melse\u001b[39;00m:\n\u001b[0;32m     20\u001b[0m     \u001b[38;5;28mprint\u001b[39m(\u001b[38;5;124mf\u001b[39m\u001b[38;5;124m\"\u001b[39m\u001b[38;5;124mNo path found from \u001b[39m\u001b[38;5;132;01m{\u001b[39;00mstart_node\u001b[38;5;132;01m}\u001b[39;00m\u001b[38;5;124m to \u001b[39m\u001b[38;5;132;01m{\u001b[39;00mdestination_node\u001b[38;5;132;01m}\u001b[39;00m\u001b[38;5;124m.\u001b[39m\u001b[38;5;124m\"\u001b[39m)\n",
      "\u001b[1;31mNameError\u001b[0m: name 'start_node' is not defined"
     ]
    }
   ],
   "source": [
    "graph = {\n",
    "    'A': ['B', 'C'],\n",
    "    'B': ['D', 'E'],\n",
    "    'C': ['F'],\n",
    "    'D': [],\n",
    "    'E': ['F'],\n",
    "    'F': []\n",
    "}\n",
    "\n",
    "\n",
    "root_node = input(\"Enter the root node: \").strip().upper()\n",
    "destination_node = input(\"Enter the destination node: \").strip().upper()\n",
    "\n",
    "# اختبار الدالة\n",
    "path = dfs(graph, root_node, destination_node)\n",
    "\n",
    "if path:\n",
    "    print(f\"Path from {start_node} to {destination_node}: {path}\")\n",
    "else:\n",
    "    print(f\"No path found from {start_node} to {destination_node}.\")"
   ]
  },
  {
   "cell_type": "markdown",
   "metadata": {},
   "source": [
    "      A\n",
    "     / \\\n",
    "    B   C\n",
    "   / \\   \\\n",
    "  D   E   F\n",
    "       \\\n",
    "        F"
   ]
  }
 ],
 "metadata": {
  "kernelspec": {
   "display_name": "base",
   "language": "python",
   "name": "python3"
  },
  "language_info": {
   "codemirror_mode": {
    "name": "ipython",
    "version": 3
   },
   "file_extension": ".py",
   "mimetype": "text/x-python",
   "name": "python",
   "nbconvert_exporter": "python",
   "pygments_lexer": "ipython3",
   "version": "3.11.4"
  }
 },
 "nbformat": 4,
 "nbformat_minor": 2
}
